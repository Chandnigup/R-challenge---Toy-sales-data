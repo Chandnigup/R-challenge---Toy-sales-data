{
 "cells": [
  {
   "cell_type": "markdown",
   "id": "16641269",
   "metadata": {},
   "source": [
    "# R challenge\n",
    "R version used - 3.6.1"
   ]
  },
  {
   "cell_type": "markdown",
   "id": "7c6169f5",
   "metadata": {},
   "source": [
    "### Importing libraries"
   ]
  },
  {
   "cell_type": "code",
   "execution_count": 1,
   "id": "55c2d78f",
   "metadata": {},
   "outputs": [
    {
     "name": "stderr",
     "output_type": "stream",
     "text": [
      "Registered S3 methods overwritten by 'ggplot2':\n",
      "  method         from \n",
      "  [.quosures     rlang\n",
      "  c.quosures     rlang\n",
      "  print.quosures rlang\n",
      "Registered S3 method overwritten by 'rvest':\n",
      "  method            from\n",
      "  read_xml.response xml2\n",
      "-- Attaching packages --------------------------------------- tidyverse 1.2.1 --\n",
      "v tibble  2.1.1       v purrr   0.3.2  \n",
      "v tidyr   0.8.3       v dplyr   0.8.0.1\n",
      "v readr   1.3.1       v stringr 1.4.0  \n",
      "v tibble  2.1.1       v forcats 0.4.0  \n",
      "-- Conflicts ------------------------------------------ tidyverse_conflicts() --\n",
      "x dplyr::filter() masks stats::filter()\n",
      "x dplyr::lag()    masks stats::lag()\n",
      "corrplot 0.90 loaded\n",
      "\n",
      "Attaching package: 'scales'\n",
      "\n",
      "The following object is masked from 'package:purrr':\n",
      "\n",
      "    discard\n",
      "\n",
      "The following object is masked from 'package:readr':\n",
      "\n",
      "    col_factor\n",
      "\n"
     ]
    }
   ],
   "source": [
    "library(\"readxl\")\n",
    "library(\"ggplot2\")\n",
    "library(\"tidyverse\")\n",
    "library(\"corrplot\")\n",
    "library(\"scales\")"
   ]
  },
  {
   "cell_type": "markdown",
   "id": "91c8b0f7",
   "metadata": {},
   "source": [
    "### Importing sales data sheet"
   ]
  },
  {
   "cell_type": "code",
   "execution_count": 2,
   "id": "4c2a9126",
   "metadata": {
    "scrolled": true
   },
   "outputs": [],
   "source": [
    "toy_sales <- read_excel(\"toy_sales_data.xlsx\")"
   ]
  },
  {
   "cell_type": "code",
   "execution_count": 3,
   "id": "628ad353",
   "metadata": {
    "scrolled": true
   },
   "outputs": [
    {
     "data": {
      "text/html": [
       "<table>\n",
       "<thead><tr><th scope=col>month</th><th scope=col>sales</th><th scope=col>tv_spend</th><th scope=col>digital_spend</th><th scope=col>trend</th><th scope=col>xmas</th></tr></thead>\n",
       "<tbody>\n",
       "\t<tr><td>2016-01-01</td><td> 3700000  </td><td> 600000.0 </td><td> 300000.00</td><td> 1        </td><td>0         </td></tr>\n",
       "\t<tr><td>2016-02-01</td><td> 8900000  </td><td>2880000.0 </td><td>  90000.00</td><td> 2        </td><td>0         </td></tr>\n",
       "\t<tr><td>2016-03-01</td><td> 8200000  </td><td> 864000.0 </td><td> 427000.00</td><td> 3        </td><td>0         </td></tr>\n",
       "\t<tr><td>2016-04-01</td><td> 5800000  </td><td> 259200.0 </td><td> 128100.00</td><td> 4        </td><td>0         </td></tr>\n",
       "\t<tr><td>2016-05-01</td><td>11000000  </td><td>2077760.0 </td><td> 538430.00</td><td> 5        </td><td>0         </td></tr>\n",
       "\t<tr><td>2016-06-01</td><td> 7700000  </td><td> 623328.0 </td><td> 161529.00</td><td> 6        </td><td>0         </td></tr>\n",
       "\t<tr><td>2016-07-01</td><td>10300000  </td><td>2186998.4 </td><td>  48458.70</td><td> 7        </td><td>0         </td></tr>\n",
       "\t<tr><td>2016-08-01</td><td> 7800000  </td><td> 656099.5 </td><td>  14537.61</td><td> 8        </td><td>0         </td></tr>\n",
       "\t<tr><td>2016-09-01</td><td> 9500000  </td><td> 196829.9 </td><td> 804361.28</td><td> 9        </td><td>0         </td></tr>\n",
       "\t<tr><td>2016-10-01</td><td>10600000  </td><td>1859049.0 </td><td> 241308.38</td><td>10        </td><td>0         </td></tr>\n",
       "\t<tr><td>2016-11-01</td><td> 9800000  </td><td>1457714.7 </td><td>  72392.52</td><td>11        </td><td>0         </td></tr>\n",
       "\t<tr><td>2016-12-01</td><td>16000500  </td><td>1100350.0 </td><td> 620335.00</td><td>12        </td><td>1         </td></tr>\n",
       "\t<tr><td>2017-01-01</td><td> 6800000  </td><td> 131194.3 </td><td> 156515.33</td><td>13        </td><td>0         </td></tr>\n",
       "\t<tr><td>2017-02-01</td><td> 9600000  </td><td>  39358.3 </td><td>1146954.60</td><td>14        </td><td>0         </td></tr>\n",
       "\t<tr><td>2017-03-01</td><td>15700000  </td><td>1311807.5 </td><td>1944086.38</td><td>15        </td><td>0         </td></tr>\n",
       "\t<tr><td>2017-04-01</td><td>19800000  </td><td>2893542.2 </td><td>1683225.91</td><td>16        </td><td>0         </td></tr>\n",
       "\t<tr><td>2017-05-01</td><td>14500000  </td><td> 868062.7 </td><td>1004967.77</td><td>17        </td><td>0         </td></tr>\n",
       "\t<tr><td>2017-06-01</td><td>13200000  </td><td>1760418.8 </td><td> 301490.33</td><td>18        </td><td>0         </td></tr>\n",
       "\t<tr><td>2017-07-01</td><td> 9600000  </td><td> 528125.6 </td><td>  90447.10</td><td>19        </td><td>0         </td></tr>\n",
       "\t<tr><td>2017-08-01</td><td>13500000  </td><td> 158437.7 </td><td>1527134.13</td><td>20        </td><td>0         </td></tr>\n",
       "\t<tr><td>2017-09-01</td><td>12500000  </td><td> 130112.0 </td><td> 650231.00</td><td>21        </td><td>0         </td></tr>\n",
       "\t<tr><td>2017-10-01</td><td> 9200000  </td><td>  90000.0 </td><td> 150000.00</td><td>22        </td><td>0         </td></tr>\n",
       "\t<tr><td>2017-11-01</td><td>14000000  </td><td> 750235.0 </td><td> 239770.00</td><td>23        </td><td>0         </td></tr>\n",
       "\t<tr><td>2017-12-01</td><td>18000000  </td><td>2050750.0 </td><td> 900745.00</td><td>24        </td><td>1         </td></tr>\n",
       "</tbody>\n",
       "</table>\n"
      ],
      "text/latex": [
       "\\begin{tabular}{r|llllll}\n",
       " month & sales & tv\\_spend & digital\\_spend & trend & xmas\\\\\n",
       "\\hline\n",
       "\t 2016-01-01 &  3700000   &  600000.0  &  300000.00 &  1         & 0         \\\\\n",
       "\t 2016-02-01 &  8900000   & 2880000.0  &   90000.00 &  2         & 0         \\\\\n",
       "\t 2016-03-01 &  8200000   &  864000.0  &  427000.00 &  3         & 0         \\\\\n",
       "\t 2016-04-01 &  5800000   &  259200.0  &  128100.00 &  4         & 0         \\\\\n",
       "\t 2016-05-01 & 11000000   & 2077760.0  &  538430.00 &  5         & 0         \\\\\n",
       "\t 2016-06-01 &  7700000   &  623328.0  &  161529.00 &  6         & 0         \\\\\n",
       "\t 2016-07-01 & 10300000   & 2186998.4  &   48458.70 &  7         & 0         \\\\\n",
       "\t 2016-08-01 &  7800000   &  656099.5  &   14537.61 &  8         & 0         \\\\\n",
       "\t 2016-09-01 &  9500000   &  196829.9  &  804361.28 &  9         & 0         \\\\\n",
       "\t 2016-10-01 & 10600000   & 1859049.0  &  241308.38 & 10         & 0         \\\\\n",
       "\t 2016-11-01 &  9800000   & 1457714.7  &   72392.52 & 11         & 0         \\\\\n",
       "\t 2016-12-01 & 16000500   & 1100350.0  &  620335.00 & 12         & 1         \\\\\n",
       "\t 2017-01-01 &  6800000   &  131194.3  &  156515.33 & 13         & 0         \\\\\n",
       "\t 2017-02-01 &  9600000   &   39358.3  & 1146954.60 & 14         & 0         \\\\\n",
       "\t 2017-03-01 & 15700000   & 1311807.5  & 1944086.38 & 15         & 0         \\\\\n",
       "\t 2017-04-01 & 19800000   & 2893542.2  & 1683225.91 & 16         & 0         \\\\\n",
       "\t 2017-05-01 & 14500000   &  868062.7  & 1004967.77 & 17         & 0         \\\\\n",
       "\t 2017-06-01 & 13200000   & 1760418.8  &  301490.33 & 18         & 0         \\\\\n",
       "\t 2017-07-01 &  9600000   &  528125.6  &   90447.10 & 19         & 0         \\\\\n",
       "\t 2017-08-01 & 13500000   &  158437.7  & 1527134.13 & 20         & 0         \\\\\n",
       "\t 2017-09-01 & 12500000   &  130112.0  &  650231.00 & 21         & 0         \\\\\n",
       "\t 2017-10-01 &  9200000   &   90000.0  &  150000.00 & 22         & 0         \\\\\n",
       "\t 2017-11-01 & 14000000   &  750235.0  &  239770.00 & 23         & 0         \\\\\n",
       "\t 2017-12-01 & 18000000   & 2050750.0  &  900745.00 & 24         & 1         \\\\\n",
       "\\end{tabular}\n"
      ],
      "text/markdown": [
       "\n",
       "| month | sales | tv_spend | digital_spend | trend | xmas |\n",
       "|---|---|---|---|---|---|\n",
       "| 2016-01-01 |  3700000   |  600000.0  |  300000.00 |  1         | 0          |\n",
       "| 2016-02-01 |  8900000   | 2880000.0  |   90000.00 |  2         | 0          |\n",
       "| 2016-03-01 |  8200000   |  864000.0  |  427000.00 |  3         | 0          |\n",
       "| 2016-04-01 |  5800000   |  259200.0  |  128100.00 |  4         | 0          |\n",
       "| 2016-05-01 | 11000000   | 2077760.0  |  538430.00 |  5         | 0          |\n",
       "| 2016-06-01 |  7700000   |  623328.0  |  161529.00 |  6         | 0          |\n",
       "| 2016-07-01 | 10300000   | 2186998.4  |   48458.70 |  7         | 0          |\n",
       "| 2016-08-01 |  7800000   |  656099.5  |   14537.61 |  8         | 0          |\n",
       "| 2016-09-01 |  9500000   |  196829.9  |  804361.28 |  9         | 0          |\n",
       "| 2016-10-01 | 10600000   | 1859049.0  |  241308.38 | 10         | 0          |\n",
       "| 2016-11-01 |  9800000   | 1457714.7  |   72392.52 | 11         | 0          |\n",
       "| 2016-12-01 | 16000500   | 1100350.0  |  620335.00 | 12         | 1          |\n",
       "| 2017-01-01 |  6800000   |  131194.3  |  156515.33 | 13         | 0          |\n",
       "| 2017-02-01 |  9600000   |   39358.3  | 1146954.60 | 14         | 0          |\n",
       "| 2017-03-01 | 15700000   | 1311807.5  | 1944086.38 | 15         | 0          |\n",
       "| 2017-04-01 | 19800000   | 2893542.2  | 1683225.91 | 16         | 0          |\n",
       "| 2017-05-01 | 14500000   |  868062.7  | 1004967.77 | 17         | 0          |\n",
       "| 2017-06-01 | 13200000   | 1760418.8  |  301490.33 | 18         | 0          |\n",
       "| 2017-07-01 |  9600000   |  528125.6  |   90447.10 | 19         | 0          |\n",
       "| 2017-08-01 | 13500000   |  158437.7  | 1527134.13 | 20         | 0          |\n",
       "| 2017-09-01 | 12500000   |  130112.0  |  650231.00 | 21         | 0          |\n",
       "| 2017-10-01 |  9200000   |   90000.0  |  150000.00 | 22         | 0          |\n",
       "| 2017-11-01 | 14000000   |  750235.0  |  239770.00 | 23         | 0          |\n",
       "| 2017-12-01 | 18000000   | 2050750.0  |  900745.00 | 24         | 1          |\n",
       "\n"
      ],
      "text/plain": [
       "   month      sales    tv_spend  digital_spend trend xmas\n",
       "1  2016-01-01  3700000  600000.0  300000.00     1    0   \n",
       "2  2016-02-01  8900000 2880000.0   90000.00     2    0   \n",
       "3  2016-03-01  8200000  864000.0  427000.00     3    0   \n",
       "4  2016-04-01  5800000  259200.0  128100.00     4    0   \n",
       "5  2016-05-01 11000000 2077760.0  538430.00     5    0   \n",
       "6  2016-06-01  7700000  623328.0  161529.00     6    0   \n",
       "7  2016-07-01 10300000 2186998.4   48458.70     7    0   \n",
       "8  2016-08-01  7800000  656099.5   14537.61     8    0   \n",
       "9  2016-09-01  9500000  196829.9  804361.28     9    0   \n",
       "10 2016-10-01 10600000 1859049.0  241308.38    10    0   \n",
       "11 2016-11-01  9800000 1457714.7   72392.52    11    0   \n",
       "12 2016-12-01 16000500 1100350.0  620335.00    12    1   \n",
       "13 2017-01-01  6800000  131194.3  156515.33    13    0   \n",
       "14 2017-02-01  9600000   39358.3 1146954.60    14    0   \n",
       "15 2017-03-01 15700000 1311807.5 1944086.38    15    0   \n",
       "16 2017-04-01 19800000 2893542.2 1683225.91    16    0   \n",
       "17 2017-05-01 14500000  868062.7 1004967.77    17    0   \n",
       "18 2017-06-01 13200000 1760418.8  301490.33    18    0   \n",
       "19 2017-07-01  9600000  528125.6   90447.10    19    0   \n",
       "20 2017-08-01 13500000  158437.7 1527134.13    20    0   \n",
       "21 2017-09-01 12500000  130112.0  650231.00    21    0   \n",
       "22 2017-10-01  9200000   90000.0  150000.00    22    0   \n",
       "23 2017-11-01 14000000  750235.0  239770.00    23    0   \n",
       "24 2017-12-01 18000000 2050750.0  900745.00    24    1   "
      ]
     },
     "metadata": {},
     "output_type": "display_data"
    }
   ],
   "source": [
    "toy_sales"
   ]
  },
  {
   "cell_type": "code",
   "execution_count": 4,
   "id": "9aeb816d",
   "metadata": {},
   "outputs": [
    {
     "data": {
      "text/html": [
       "<dl>\n",
       "\t<dt>$month</dt>\n",
       "\t\t<dd><ol class=list-inline>\n",
       "\t<li>'POSIXct'</li>\n",
       "\t<li>'POSIXt'</li>\n",
       "</ol>\n",
       "</dd>\n",
       "\t<dt>$sales</dt>\n",
       "\t\t<dd>'numeric'</dd>\n",
       "\t<dt>$tv_spend</dt>\n",
       "\t\t<dd>'numeric'</dd>\n",
       "\t<dt>$digital_spend</dt>\n",
       "\t\t<dd>'numeric'</dd>\n",
       "\t<dt>$trend</dt>\n",
       "\t\t<dd>'numeric'</dd>\n",
       "\t<dt>$xmas</dt>\n",
       "\t\t<dd>'numeric'</dd>\n",
       "</dl>\n"
      ],
      "text/latex": [
       "\\begin{description}\n",
       "\\item[\\$month] \\begin{enumerate*}\n",
       "\\item 'POSIXct'\n",
       "\\item 'POSIXt'\n",
       "\\end{enumerate*}\n",
       "\n",
       "\\item[\\$sales] 'numeric'\n",
       "\\item[\\$tv\\_spend] 'numeric'\n",
       "\\item[\\$digital\\_spend] 'numeric'\n",
       "\\item[\\$trend] 'numeric'\n",
       "\\item[\\$xmas] 'numeric'\n",
       "\\end{description}\n"
      ],
      "text/markdown": [
       "$month\n",
       ":   1. 'POSIXct'\n",
       "2. 'POSIXt'\n",
       "\n",
       "\n",
       "\n",
       "$sales\n",
       ":   'numeric'\n",
       "$tv_spend\n",
       ":   'numeric'\n",
       "$digital_spend\n",
       ":   'numeric'\n",
       "$trend\n",
       ":   'numeric'\n",
       "$xmas\n",
       ":   'numeric'\n",
       "\n",
       "\n"
      ],
      "text/plain": [
       "$month\n",
       "[1] \"POSIXct\" \"POSIXt\" \n",
       "\n",
       "$sales\n",
       "[1] \"numeric\"\n",
       "\n",
       "$tv_spend\n",
       "[1] \"numeric\"\n",
       "\n",
       "$digital_spend\n",
       "[1] \"numeric\"\n",
       "\n",
       "$trend\n",
       "[1] \"numeric\"\n",
       "\n",
       "$xmas\n",
       "[1] \"numeric\"\n"
      ]
     },
     "metadata": {},
     "output_type": "display_data"
    }
   ],
   "source": [
    "# Checking datatypes\n",
    "sapply(toy_sales,class)"
   ]
  },
  {
   "cell_type": "markdown",
   "id": "ee144d00",
   "metadata": {},
   "source": [
    "### Create a plot of sales, TV investment and Digital investment in the y axis with time in the x axis"
   ]
  },
  {
   "cell_type": "markdown",
   "id": "34d4b8d9",
   "metadata": {},
   "source": [
    "#### Data preparation\n",
    "Creating new dataframe with 3 variables (sales, tv_spend,digital_spend) and month"
   ]
  },
  {
   "cell_type": "code",
   "execution_count": 5,
   "id": "728ece2c",
   "metadata": {
    "scrolled": true
   },
   "outputs": [
    {
     "data": {
      "text/html": [
       "<table>\n",
       "<thead><tr><th scope=col>month</th><th scope=col>variable</th><th scope=col>value</th></tr></thead>\n",
       "<tbody>\n",
       "\t<tr><td>2016-01-01</td><td>sales     </td><td>3.7e+06   </td></tr>\n",
       "\t<tr><td>2016-02-01</td><td>sales     </td><td>8.9e+06   </td></tr>\n",
       "\t<tr><td>2016-03-01</td><td>sales     </td><td>8.2e+06   </td></tr>\n",
       "\t<tr><td>2016-04-01</td><td>sales     </td><td>5.8e+06   </td></tr>\n",
       "\t<tr><td>2016-05-01</td><td>sales     </td><td>1.1e+07   </td></tr>\n",
       "\t<tr><td>2016-06-01</td><td>sales     </td><td>7.7e+06   </td></tr>\n",
       "</tbody>\n",
       "</table>\n"
      ],
      "text/latex": [
       "\\begin{tabular}{r|lll}\n",
       " month & variable & value\\\\\n",
       "\\hline\n",
       "\t 2016-01-01 & sales      & 3.7e+06   \\\\\n",
       "\t 2016-02-01 & sales      & 8.9e+06   \\\\\n",
       "\t 2016-03-01 & sales      & 8.2e+06   \\\\\n",
       "\t 2016-04-01 & sales      & 5.8e+06   \\\\\n",
       "\t 2016-05-01 & sales      & 1.1e+07   \\\\\n",
       "\t 2016-06-01 & sales      & 7.7e+06   \\\\\n",
       "\\end{tabular}\n"
      ],
      "text/markdown": [
       "\n",
       "| month | variable | value |\n",
       "|---|---|---|\n",
       "| 2016-01-01 | sales      | 3.7e+06    |\n",
       "| 2016-02-01 | sales      | 8.9e+06    |\n",
       "| 2016-03-01 | sales      | 8.2e+06    |\n",
       "| 2016-04-01 | sales      | 5.8e+06    |\n",
       "| 2016-05-01 | sales      | 1.1e+07    |\n",
       "| 2016-06-01 | sales      | 7.7e+06    |\n",
       "\n"
      ],
      "text/plain": [
       "  month      variable value  \n",
       "1 2016-01-01 sales    3.7e+06\n",
       "2 2016-02-01 sales    8.9e+06\n",
       "3 2016-03-01 sales    8.2e+06\n",
       "4 2016-04-01 sales    5.8e+06\n",
       "5 2016-05-01 sales    1.1e+07\n",
       "6 2016-06-01 sales    7.7e+06"
      ]
     },
     "metadata": {},
     "output_type": "display_data"
    }
   ],
   "source": [
    "df <- toy_sales %>%\n",
    "  select(month, sales, tv_spend,digital_spend) %>%\n",
    "  gather(key = \"variable\", value = \"value\", -month)\n",
    "  \n",
    "head(df)"
   ]
  },
  {
   "cell_type": "markdown",
   "id": "a9a8c1e2",
   "metadata": {},
   "source": [
    "#### Visualization\n",
    "Using above dataframe and ggplot function to plot a line chart of sales, TV investment and Digital investment with time."
   ]
  },
  {
   "cell_type": "code",
   "execution_count": 6,
   "id": "b9cf3bbe",
   "metadata": {
    "scrolled": false
   },
   "outputs": [
    {
     "data": {
      "image/png": "[encoded data removed]",
      "text/plain": [
       "plot without title"
      ]
     },
     "metadata": {},
     "output_type": "display_data"
    }
   ],
   "source": [
    "ggp <- ggplot(df, aes(x = month, y = value)) + \n",
    "  geom_line(aes(color = variable)) + \n",
    "  scale_color_manual(values = c(\"darkred\", \"steelblue\",\"darkgreen\"))\n",
    "\n",
    "ggp + scale_y_continuous(labels = comma)"
   ]
  },
  {
   "cell_type": "markdown",
   "id": "348d5c72",
   "metadata": {},
   "source": [
    "<b> Observations: </b>\n",
    "\n",
    "* In general, there's an upward trend and an overall increase in sales over time.\n",
    "* We can also observe that there's a seasonal change of tv_spend and digital_spend which are directly impacting the sales."
   ]
  },
  {
   "cell_type": "markdown",
   "id": "520fae04",
   "metadata": {},
   "source": [
    "### Report the correlations among sales, TV and Digital investment"
   ]
  },
  {
   "cell_type": "markdown",
   "id": "162bdf51",
   "metadata": {},
   "source": [
    "Checking correlation among different variables of data using Corrplot, keeping month out of it since it's a qualitative data."
   ]
  },
  {
   "cell_type": "code",
   "execution_count": 7,
   "id": "e6a7b652",
   "metadata": {},
   "outputs": [
    {
     "data": {
      "image/png": "[encoded data removed]",
      "text/plain": [
       "Plot with title \"\""
      ]
     },
     "metadata": {},
     "output_type": "display_data"
    }
   ],
   "source": [
    "dat <- toy_sales %>%\n",
    "  select(-month)\n",
    "\n",
    "corrplot(cor(dat),\n",
    "  method = \"number\",\n",
    "  type = \"upper\" # show only upper side\n",
    ")\n"
   ]
  },
  {
   "cell_type": "markdown",
   "id": "ed561e84",
   "metadata": {},
   "source": [
    "#### Observations:\n",
    "* There's a positive and strong correlation among sales and digital_spend of 0.66.\n",
    "* There's a positive correlation but not much strong among sales and tv_spend of 0.44.\n",
    "* There's a weak correlation among tv_send and digital_spend."
   ]
  },
  {
   "cell_type": "markdown",
   "id": "58ff8ec9",
   "metadata": {},
   "source": [
    "#### Above observations can be verified using scatterplots below."
   ]
  },
  {
   "cell_type": "markdown",
   "id": "86cc66c9",
   "metadata": {},
   "source": [
    "<b> 1. Scatterplot between sales and TV investment </b>"
   ]
  },
  {
   "cell_type": "code",
   "execution_count": 8,
   "id": "781fca57",
   "metadata": {
    "scrolled": false
   },
   "outputs": [
    {
     "data": {
      "image/png": "[encoded data removed]",
      "text/plain": [
       "plot without title"
      ]
     },
     "metadata": {},
     "output_type": "display_data"
    }
   ],
   "source": [
    "ggplot(toy_sales) +\n",
    "  aes(x = sales, y = tv_spend) +\n",
    "  geom_point(colour = \"#0c4c8a\") +\n",
    "  theme_minimal()+scale_y_continuous(labels = comma)+scale_x_continuous(labels = comma)"
   ]
  },
  {
   "cell_type": "markdown",
   "id": "bb92fc1f",
   "metadata": {},
   "source": [
    "<b> 2. Scatterplot between sales and Digital investment </b>"
   ]
  },
  {
   "cell_type": "code",
   "execution_count": 9,
   "id": "aed67498",
   "metadata": {},
   "outputs": [
    {
     "data": {
      "image/png": "[encoded data removed]",
      "text/plain": [
       "plot without title"
      ]
     },
     "metadata": {},
     "output_type": "display_data"
    }
   ],
   "source": [
    "ggplot(toy_sales) +\n",
    "  aes(x = sales, y = digital_spend) +\n",
    "  geom_point(colour = \"#0c4c8a\") +\n",
    "  theme_minimal()+scale_y_continuous(labels = comma)+scale_x_continuous(labels = comma)"
   ]
  },
  {
   "cell_type": "markdown",
   "id": "4c594774",
   "metadata": {},
   "source": [
    "<b> 3. Scatterplot between TV investment and Digital investment </b>"
   ]
  },
  {
   "cell_type": "code",
   "execution_count": 10,
   "id": "9a6ce16c",
   "metadata": {},
   "outputs": [
    {
     "data": {
      "image/png": "[encoded data removed]",
      "text/plain": [
       "plot without title"
      ]
     },
     "metadata": {},
     "output_type": "display_data"
    }
   ],
   "source": [
    "ggplot(toy_sales) +\n",
    "  aes(x = tv_spend, y = digital_spend) +\n",
    "  geom_point(colour = \"#0c4c8a\") +\n",
    "  theme_minimal()+scale_y_continuous(labels = comma)+scale_x_continuous(labels = comma)"
   ]
  },
  {
   "cell_type": "markdown",
   "id": "5615ed89",
   "metadata": {},
   "source": [
    "### Fit a regression model to data, using all data points you have available"
   ]
  },
  {
   "cell_type": "markdown",
   "id": "b4d976c3",
   "metadata": {},
   "source": [
    "To fit a linear regression model below, we're keeping <b> month </b> out of the model since <b> trends and xmas </b> variables are function of month variable which are being used in the model."
   ]
  },
  {
   "cell_type": "code",
   "execution_count": 11,
   "id": "865ef002",
   "metadata": {
    "scrolled": false
   },
   "outputs": [
    {
     "data": {
      "text/plain": [
       "\n",
       "Call:\n",
       "lm(formula = sales ~ . - month, data = toy_sales)\n",
       "\n",
       "Residuals:\n",
       "     Min       1Q   Median       3Q      Max \n",
       "-2148071  -749281   198668   798127  2099176 \n",
       "\n",
       "Coefficients:\n",
       "               Estimate Std. Error t value Pr(>|t|)    \n",
       "(Intercept)   3.451e+06  6.706e+05   5.146 5.74e-05 ***\n",
       "tv_spend      2.026e+00  3.071e-01   6.599 2.58e-06 ***\n",
       "digital_spend 2.983e+00  5.040e-01   5.919 1.07e-05 ***\n",
       "trend         2.863e+05  4.156e+04   6.888 1.44e-06 ***\n",
       "xmas          2.935e+06  9.730e+05   3.016  0.00711 ** \n",
       "---\n",
       "Signif. codes:  0 '***' 0.001 '**' 0.01 '*' 0.05 '.' 0.1 ' ' 1\n",
       "\n",
       "Residual standard error: 1245000 on 19 degrees of freedom\n",
       "Multiple R-squared:  0.9161,\tAdjusted R-squared:  0.8984 \n",
       "F-statistic: 51.84 on 4 and 19 DF,  p-value: 5.817e-10\n"
      ]
     },
     "metadata": {},
     "output_type": "display_data"
    }
   ],
   "source": [
    "model = lm(sales~.-month, data = toy_sales) #Create the linear regression\n",
    "summary(model)"
   ]
  },
  {
   "cell_type": "markdown",
   "id": "f41cfb55",
   "metadata": {},
   "source": [
    "<b> Observations: </b>\n",
    "* <b> Adjusted R square </b> helps in understanding the fit of the model which in this case shows that our linear regression model has fitted fairly good to the actual data.\n",
    "* <b> Adjusted R square = 0.89 </b> means the model fits about 89% of the training data, which is considered a good fit.\n",
    "* <b> P - value </b> helps in understanding the significance of the model. If p-value is extremely small (<0.001) then it is considered highly significant.\n",
    "* From above summary, we can see <b> p-value = 5.817e-10 </b> which is extremely small and shows a strong evidence against the null hypothesis.\n",
    "* <b> Significance of each regressor:</b> From summary above, we can observe that our each regressor is highly significant and have p-values between <b> [0, 0.001] </b> except 'xmas' regressor which has p-value between <b> (0.001, 0.01]. </b>"
   ]
  },
  {
   "cell_type": "markdown",
   "id": "2fb26a8d",
   "metadata": {},
   "source": [
    "### Calculate the contribution from TV Spend to sales in % and absolute dollar value"
   ]
  },
  {
   "cell_type": "code",
   "execution_count": 12,
   "id": "4f69cbd9",
   "metadata": {
    "scrolled": true
   },
   "outputs": [
    {
     "data": {
      "text/html": [
       "<table>\n",
       "<thead><tr><th scope=col>month</th><th scope=col>sales</th><th scope=col>tv_spend</th><th scope=col>digital_spend</th><th scope=col>trend</th><th scope=col>xmas</th></tr></thead>\n",
       "<tbody>\n",
       "\t<tr><td>2016-01-01</td><td> 3700000  </td><td> 600000.0 </td><td> 300000.00</td><td> 1        </td><td>0         </td></tr>\n",
       "\t<tr><td>2016-02-01</td><td> 8900000  </td><td>2880000.0 </td><td>  90000.00</td><td> 2        </td><td>0         </td></tr>\n",
       "\t<tr><td>2016-03-01</td><td> 8200000  </td><td> 864000.0 </td><td> 427000.00</td><td> 3        </td><td>0         </td></tr>\n",
       "\t<tr><td>2016-04-01</td><td> 5800000  </td><td> 259200.0 </td><td> 128100.00</td><td> 4        </td><td>0         </td></tr>\n",
       "\t<tr><td>2016-05-01</td><td>11000000  </td><td>2077760.0 </td><td> 538430.00</td><td> 5        </td><td>0         </td></tr>\n",
       "\t<tr><td>2016-06-01</td><td> 7700000  </td><td> 623328.0 </td><td> 161529.00</td><td> 6        </td><td>0         </td></tr>\n",
       "\t<tr><td>2016-07-01</td><td>10300000  </td><td>2186998.4 </td><td>  48458.70</td><td> 7        </td><td>0         </td></tr>\n",
       "\t<tr><td>2016-08-01</td><td> 7800000  </td><td> 656099.5 </td><td>  14537.61</td><td> 8        </td><td>0         </td></tr>\n",
       "\t<tr><td>2016-09-01</td><td> 9500000  </td><td> 196829.9 </td><td> 804361.28</td><td> 9        </td><td>0         </td></tr>\n",
       "\t<tr><td>2016-10-01</td><td>10600000  </td><td>1859049.0 </td><td> 241308.38</td><td>10        </td><td>0         </td></tr>\n",
       "\t<tr><td>2016-11-01</td><td> 9800000  </td><td>1457714.7 </td><td>  72392.52</td><td>11        </td><td>0         </td></tr>\n",
       "\t<tr><td>2016-12-01</td><td>16000500  </td><td>1100350.0 </td><td> 620335.00</td><td>12        </td><td>1         </td></tr>\n",
       "\t<tr><td>2017-01-01</td><td> 6800000  </td><td> 131194.3 </td><td> 156515.33</td><td>13        </td><td>0         </td></tr>\n",
       "\t<tr><td>2017-02-01</td><td> 9600000  </td><td>  39358.3 </td><td>1146954.60</td><td>14        </td><td>0         </td></tr>\n",
       "\t<tr><td>2017-03-01</td><td>15700000  </td><td>1311807.5 </td><td>1944086.38</td><td>15        </td><td>0         </td></tr>\n",
       "\t<tr><td>2017-04-01</td><td>19800000  </td><td>2893542.2 </td><td>1683225.91</td><td>16        </td><td>0         </td></tr>\n",
       "\t<tr><td>2017-05-01</td><td>14500000  </td><td> 868062.7 </td><td>1004967.77</td><td>17        </td><td>0         </td></tr>\n",
       "\t<tr><td>2017-06-01</td><td>13200000  </td><td>1760418.8 </td><td> 301490.33</td><td>18        </td><td>0         </td></tr>\n",
       "\t<tr><td>2017-07-01</td><td> 9600000  </td><td> 528125.6 </td><td>  90447.10</td><td>19        </td><td>0         </td></tr>\n",
       "\t<tr><td>2017-08-01</td><td>13500000  </td><td> 158437.7 </td><td>1527134.13</td><td>20        </td><td>0         </td></tr>\n",
       "\t<tr><td>2017-09-01</td><td>12500000  </td><td> 130112.0 </td><td> 650231.00</td><td>21        </td><td>0         </td></tr>\n",
       "\t<tr><td>2017-10-01</td><td> 9200000  </td><td>  90000.0 </td><td> 150000.00</td><td>22        </td><td>0         </td></tr>\n",
       "\t<tr><td>2017-11-01</td><td>14000000  </td><td> 750235.0 </td><td> 239770.00</td><td>23        </td><td>0         </td></tr>\n",
       "\t<tr><td>2017-12-01</td><td>18000000  </td><td>2050750.0 </td><td> 900745.00</td><td>24        </td><td>1         </td></tr>\n",
       "</tbody>\n",
       "</table>\n"
      ],
      "text/latex": [
       "\\begin{tabular}{r|llllll}\n",
       " month & sales & tv\\_spend & digital\\_spend & trend & xmas\\\\\n",
       "\\hline\n",
       "\t 2016-01-01 &  3700000   &  600000.0  &  300000.00 &  1         & 0         \\\\\n",
       "\t 2016-02-01 &  8900000   & 2880000.0  &   90000.00 &  2         & 0         \\\\\n",
       "\t 2016-03-01 &  8200000   &  864000.0  &  427000.00 &  3         & 0         \\\\\n",
       "\t 2016-04-01 &  5800000   &  259200.0  &  128100.00 &  4         & 0         \\\\\n",
       "\t 2016-05-01 & 11000000   & 2077760.0  &  538430.00 &  5         & 0         \\\\\n",
       "\t 2016-06-01 &  7700000   &  623328.0  &  161529.00 &  6         & 0         \\\\\n",
       "\t 2016-07-01 & 10300000   & 2186998.4  &   48458.70 &  7         & 0         \\\\\n",
       "\t 2016-08-01 &  7800000   &  656099.5  &   14537.61 &  8         & 0         \\\\\n",
       "\t 2016-09-01 &  9500000   &  196829.9  &  804361.28 &  9         & 0         \\\\\n",
       "\t 2016-10-01 & 10600000   & 1859049.0  &  241308.38 & 10         & 0         \\\\\n",
       "\t 2016-11-01 &  9800000   & 1457714.7  &   72392.52 & 11         & 0         \\\\\n",
       "\t 2016-12-01 & 16000500   & 1100350.0  &  620335.00 & 12         & 1         \\\\\n",
       "\t 2017-01-01 &  6800000   &  131194.3  &  156515.33 & 13         & 0         \\\\\n",
       "\t 2017-02-01 &  9600000   &   39358.3  & 1146954.60 & 14         & 0         \\\\\n",
       "\t 2017-03-01 & 15700000   & 1311807.5  & 1944086.38 & 15         & 0         \\\\\n",
       "\t 2017-04-01 & 19800000   & 2893542.2  & 1683225.91 & 16         & 0         \\\\\n",
       "\t 2017-05-01 & 14500000   &  868062.7  & 1004967.77 & 17         & 0         \\\\\n",
       "\t 2017-06-01 & 13200000   & 1760418.8  &  301490.33 & 18         & 0         \\\\\n",
       "\t 2017-07-01 &  9600000   &  528125.6  &   90447.10 & 19         & 0         \\\\\n",
       "\t 2017-08-01 & 13500000   &  158437.7  & 1527134.13 & 20         & 0         \\\\\n",
       "\t 2017-09-01 & 12500000   &  130112.0  &  650231.00 & 21         & 0         \\\\\n",
       "\t 2017-10-01 &  9200000   &   90000.0  &  150000.00 & 22         & 0         \\\\\n",
       "\t 2017-11-01 & 14000000   &  750235.0  &  239770.00 & 23         & 0         \\\\\n",
       "\t 2017-12-01 & 18000000   & 2050750.0  &  900745.00 & 24         & 1         \\\\\n",
       "\\end{tabular}\n"
      ],
      "text/markdown": [
       "\n",
       "| month | sales | tv_spend | digital_spend | trend | xmas |\n",
       "|---|---|---|---|---|---|\n",
       "| 2016-01-01 |  3700000   |  600000.0  |  300000.00 |  1         | 0          |\n",
       "| 2016-02-01 |  8900000   | 2880000.0  |   90000.00 |  2         | 0          |\n",
       "| 2016-03-01 |  8200000   |  864000.0  |  427000.00 |  3         | 0          |\n",
       "| 2016-04-01 |  5800000   |  259200.0  |  128100.00 |  4         | 0          |\n",
       "| 2016-05-01 | 11000000   | 2077760.0  |  538430.00 |  5         | 0          |\n",
       "| 2016-06-01 |  7700000   |  623328.0  |  161529.00 |  6         | 0          |\n",
       "| 2016-07-01 | 10300000   | 2186998.4  |   48458.70 |  7         | 0          |\n",
       "| 2016-08-01 |  7800000   |  656099.5  |   14537.61 |  8         | 0          |\n",
       "| 2016-09-01 |  9500000   |  196829.9  |  804361.28 |  9         | 0          |\n",
       "| 2016-10-01 | 10600000   | 1859049.0  |  241308.38 | 10         | 0          |\n",
       "| 2016-11-01 |  9800000   | 1457714.7  |   72392.52 | 11         | 0          |\n",
       "| 2016-12-01 | 16000500   | 1100350.0  |  620335.00 | 12         | 1          |\n",
       "| 2017-01-01 |  6800000   |  131194.3  |  156515.33 | 13         | 0          |\n",
       "| 2017-02-01 |  9600000   |   39358.3  | 1146954.60 | 14         | 0          |\n",
       "| 2017-03-01 | 15700000   | 1311807.5  | 1944086.38 | 15         | 0          |\n",
       "| 2017-04-01 | 19800000   | 2893542.2  | 1683225.91 | 16         | 0          |\n",
       "| 2017-05-01 | 14500000   |  868062.7  | 1004967.77 | 17         | 0          |\n",
       "| 2017-06-01 | 13200000   | 1760418.8  |  301490.33 | 18         | 0          |\n",
       "| 2017-07-01 |  9600000   |  528125.6  |   90447.10 | 19         | 0          |\n",
       "| 2017-08-01 | 13500000   |  158437.7  | 1527134.13 | 20         | 0          |\n",
       "| 2017-09-01 | 12500000   |  130112.0  |  650231.00 | 21         | 0          |\n",
       "| 2017-10-01 |  9200000   |   90000.0  |  150000.00 | 22         | 0          |\n",
       "| 2017-11-01 | 14000000   |  750235.0  |  239770.00 | 23         | 0          |\n",
       "| 2017-12-01 | 18000000   | 2050750.0  |  900745.00 | 24         | 1          |\n",
       "\n"
      ],
      "text/plain": [
       "   month      sales    tv_spend  digital_spend trend xmas\n",
       "1  2016-01-01  3700000  600000.0  300000.00     1    0   \n",
       "2  2016-02-01  8900000 2880000.0   90000.00     2    0   \n",
       "3  2016-03-01  8200000  864000.0  427000.00     3    0   \n",
       "4  2016-04-01  5800000  259200.0  128100.00     4    0   \n",
       "5  2016-05-01 11000000 2077760.0  538430.00     5    0   \n",
       "6  2016-06-01  7700000  623328.0  161529.00     6    0   \n",
       "7  2016-07-01 10300000 2186998.4   48458.70     7    0   \n",
       "8  2016-08-01  7800000  656099.5   14537.61     8    0   \n",
       "9  2016-09-01  9500000  196829.9  804361.28     9    0   \n",
       "10 2016-10-01 10600000 1859049.0  241308.38    10    0   \n",
       "11 2016-11-01  9800000 1457714.7   72392.52    11    0   \n",
       "12 2016-12-01 16000500 1100350.0  620335.00    12    1   \n",
       "13 2017-01-01  6800000  131194.3  156515.33    13    0   \n",
       "14 2017-02-01  9600000   39358.3 1146954.60    14    0   \n",
       "15 2017-03-01 15700000 1311807.5 1944086.38    15    0   \n",
       "16 2017-04-01 19800000 2893542.2 1683225.91    16    0   \n",
       "17 2017-05-01 14500000  868062.7 1004967.77    17    0   \n",
       "18 2017-06-01 13200000 1760418.8  301490.33    18    0   \n",
       "19 2017-07-01  9600000  528125.6   90447.10    19    0   \n",
       "20 2017-08-01 13500000  158437.7 1527134.13    20    0   \n",
       "21 2017-09-01 12500000  130112.0  650231.00    21    0   \n",
       "22 2017-10-01  9200000   90000.0  150000.00    22    0   \n",
       "23 2017-11-01 14000000  750235.0  239770.00    23    0   \n",
       "24 2017-12-01 18000000 2050750.0  900745.00    24    1   "
      ]
     },
     "metadata": {},
     "output_type": "display_data"
    }
   ],
   "source": [
    "toy_sales"
   ]
  },
  {
   "cell_type": "markdown",
   "id": "5803f9b1",
   "metadata": {},
   "source": [
    "#### Contribution from TV Spend to sales in absolute dollar value\n",
    "\n",
    "Contribution = Total tv Spend * Coefficient of Tv_spend "
   ]
  },
  {
   "cell_type": "code",
   "execution_count": 13,
   "id": "20d3f3dd",
   "metadata": {
    "scrolled": true
   },
   "outputs": [
    {
     "data": {
      "text/html": [
       "51622803.13"
      ],
      "text/latex": [
       "51622803.13"
      ],
      "text/markdown": [
       "51622803.13"
      ],
      "text/plain": [
       "[1] 51622803"
      ]
     },
     "metadata": {},
     "output_type": "display_data"
    }
   ],
   "source": [
    "round(sum(toy_sales$tv_spend * summary(model)$coeff[2]),2)"
   ]
  },
  {
   "cell_type": "markdown",
   "id": "c296d384",
   "metadata": {},
   "source": [
    "#### Contribution from TV Spend to sales in %\n",
    "Contribution % = (Total tv Spend * Coefficient of Tv_spend)/ Total sales"
   ]
  },
  {
   "cell_type": "code",
   "execution_count": 14,
   "id": "b02dc9a8",
   "metadata": {
    "scrolled": true
   },
   "outputs": [
    {
     "data": {
      "text/html": [
       "19.4289446673357"
      ],
      "text/latex": [
       "19.4289446673357"
      ],
      "text/markdown": [
       "19.4289446673357"
      ],
      "text/plain": [
       "[1] 19.42894"
      ]
     },
     "metadata": {},
     "output_type": "display_data"
    }
   ],
   "source": [
    "(sum(toy_sales$tv_spend * summary(model)$coeff[2])/sum(toy_sales$sales) )*100"
   ]
  },
  {
   "cell_type": "markdown",
   "id": "b0385ed0",
   "metadata": {},
   "source": [
    "### Calculate the TV return on investment (ROI)\n",
    "Coefficient of TV spend"
   ]
  },
  {
   "cell_type": "code",
   "execution_count": 15,
   "id": "f9840022",
   "metadata": {},
   "outputs": [],
   "source": [
    "ROI = summary(model)$coeff[2]"
   ]
  },
  {
   "cell_type": "markdown",
   "id": "99407155",
   "metadata": {},
   "source": [
    "### Using the planned spend values for the first 3 months of 2018 and your regressions model, calculate the expected sales value for the first 3 months of 2018"
   ]
  },
  {
   "cell_type": "markdown",
   "id": "60215510",
   "metadata": {},
   "source": [
    "#### Importing \"planned_spend\" data - added fields trend and xmas to make it consistent with the model above"
   ]
  },
  {
   "cell_type": "code",
   "execution_count": 16,
   "id": "a23e17af",
   "metadata": {},
   "outputs": [],
   "source": [
    "planned_spend = read_excel(\"toy_sales_data.xlsx\",\"planned_spend\")"
   ]
  },
  {
   "cell_type": "code",
   "execution_count": 17,
   "id": "46afabca",
   "metadata": {},
   "outputs": [
    {
     "data": {
      "text/html": [
       "<table>\n",
       "<thead><tr><th scope=col>month</th><th scope=col>tv_spend</th><th scope=col>digital_spend</th><th scope=col>trend</th><th scope=col>xmas</th></tr></thead>\n",
       "<tbody>\n",
       "\t<tr><td>2018-01-01</td><td> 350000   </td><td>215000    </td><td>25        </td><td>0         </td></tr>\n",
       "\t<tr><td>2018-02-01</td><td> 950000   </td><td>150000    </td><td>26        </td><td>0         </td></tr>\n",
       "\t<tr><td>2018-03-01</td><td>1350000   </td><td>400000    </td><td>27        </td><td>0         </td></tr>\n",
       "</tbody>\n",
       "</table>\n"
      ],
      "text/latex": [
       "\\begin{tabular}{r|lllll}\n",
       " month & tv\\_spend & digital\\_spend & trend & xmas\\\\\n",
       "\\hline\n",
       "\t 2018-01-01 &  350000    & 215000     & 25         & 0         \\\\\n",
       "\t 2018-02-01 &  950000    & 150000     & 26         & 0         \\\\\n",
       "\t 2018-03-01 & 1350000    & 400000     & 27         & 0         \\\\\n",
       "\\end{tabular}\n"
      ],
      "text/markdown": [
       "\n",
       "| month | tv_spend | digital_spend | trend | xmas |\n",
       "|---|---|---|---|---|\n",
       "| 2018-01-01 |  350000    | 215000     | 25         | 0          |\n",
       "| 2018-02-01 |  950000    | 150000     | 26         | 0          |\n",
       "| 2018-03-01 | 1350000    | 400000     | 27         | 0          |\n",
       "\n"
      ],
      "text/plain": [
       "  month      tv_spend digital_spend trend xmas\n",
       "1 2018-01-01  350000  215000        25    0   \n",
       "2 2018-02-01  950000  150000        26    0   \n",
       "3 2018-03-01 1350000  400000        27    0   "
      ]
     },
     "metadata": {},
     "output_type": "display_data"
    }
   ],
   "source": [
    "planned_spend"
   ]
  },
  {
   "cell_type": "markdown",
   "id": "998f225c",
   "metadata": {},
   "source": [
    "#### Predicting"
   ]
  },
  {
   "cell_type": "code",
   "execution_count": 18,
   "id": "aa6d27af",
   "metadata": {},
   "outputs": [
    {
     "ename": "ERROR",
     "evalue": "Error in UseMethod(\"predict\"): no applicable method for 'predict' applied to an object of class \"function\"\n",
     "output_type": "error",
     "traceback": [
      "Error in UseMethod(\"predict\"): no applicable method for 'predict' applied to an object of class \"function\"\nTraceback:\n",
      "1. predict(lm, newdata = planned_spend)"
     ]
    }
   ],
   "source": [
    "expected_sales = predict(lm, newdata = planned_spend)"
   ]
  },
  {
   "cell_type": "code",
   "execution_count": null,
   "id": "f785b9f5",
   "metadata": {},
   "outputs": [],
   "source": [
    "round(expected_sales,2)"
   ]
  },
  {
   "cell_type": "markdown",
   "id": "585f4394",
   "metadata": {},
   "source": [
    "<b> Observation: </b>\n",
    "\n",
    "Expected sales value for first 3 months of 2018:\n",
    "1. <b> 2018-01-01:</b> $11958795\n",
    "\n",
    "2. <b> 2018-02-01:</b>  $13267129.29\n",
    "\n",
    "3. <b> 2018-03-01:</b>  $15109711.57\n"
   ]
  },
  {
   "cell_type": "markdown",
   "id": "b0c8b3f6",
   "metadata": {},
   "source": [
    "### In your opinion what additional data would improve your model and why?"
   ]
  },
  {
   "cell_type": "markdown",
   "id": "65944b2c",
   "metadata": {},
   "source": [
    "* Customer details like number of customers will help in improving the model. By tracking customer details, we can track frequency of purchases and activity of customers along with the retention power.\n",
    "* Demographics data to understand customer engagement based on the characteristics of customers like their household type, age, marital status and gender.\n",
    "* This will help in segmenting our audience into subgroups and we can understand customer behaviour and their interests accordingly.\n",
    "* We can also bring in spatial data which will provide us more insights and we can use location intelligence to target our customers."
   ]
  },
  {
   "cell_type": "code",
   "execution_count": null,
   "id": "6102fccf",
   "metadata": {},
   "outputs": [],
   "source": []
  }
 ],
 "metadata": {
  "kernelspec": {
   "display_name": "R",
   "language": "R",
   "name": "ir"
  },
  "language_info": {
   "codemirror_mode": "r",
   "file_extension": ".r",
   "mimetype": "text/x-r-source",
   "name": "R",
   "pygments_lexer": "r",
   "version": "3.6.1"
  },
  "toc": {
   "base_numbering": 1,
   "nav_menu": {},
   "number_sections": true,
   "sideBar": true,
   "skip_h1_title": false,
   "title_cell": "Table of Contents",
   "title_sidebar": "Contents",
   "toc_cell": false,
   "toc_position": {},
   "toc_section_display": true,
   "toc_window_display": true
  }
 },
 "nbformat": 4,
 "nbformat_minor": 5
}
